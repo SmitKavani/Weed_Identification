{
  "nbformat": 4,
  "nbformat_minor": 0,
  "metadata": {
    "kernelspec": {
      "display_name": "Python 3",
      "language": "python",
      "name": "python3"
    },
    "language_info": {
      "codemirror_mode": {
        "name": "ipython",
        "version": 3
      },
      "file_extension": ".py",
      "mimetype": "text/x-python",
      "name": "python",
      "nbconvert_exporter": "python",
      "pygments_lexer": "ipython3",
      "version": "3.7.3"
    },
    "colab": {
      "provenance": [],
      "include_colab_link": true
    },
    "accelerator": "GPU"
  },
  "cells": [
    {
      "cell_type": "markdown",
      "metadata": {
        "id": "view-in-github",
        "colab_type": "text"
      },
      "source": [
        "<a href=\"https://colab.research.google.com/github/SmitKavani/Weed_Identification/blob/main/WeedIdentification.ipynb\" target=\"_parent\"><img src=\"https://colab.research.google.com/assets/colab-badge.svg\" alt=\"Open In Colab\"/></a>"
      ]
    },
    {
      "cell_type": "code",
      "metadata": {
        "id": "jEzIKsTD9jVq",
        "colab": {
          "base_uri": "https://localhost:8080/"
        },
        "outputId": "239b7b1a-9fa8-48d5-9c65-a29597be6298"
      },
      "source": [
        "import os\n",
        "X_train = []\n",
        "y_train = []                                                                                                                                                                                                                                               \n",
        "import cv2\n",
        "for i in os.listdir('/content/drive/MyDrive/Student Projects'):\n",
        "    print(i)\n",
        "    if (os.path.isdir('/content/drive/MyDrive/Student Projects/' + i)):\n",
        "        for j in os.listdir('/content/drive/MyDrive/Student Projects/' + i):\n",
        "            try:\n",
        "                dummy = cv2.imread('/content/drive/MyDrive/Student Projects/' + i + '/' + j)\n",
        "                dummy = cv2.resize(dummy,(128,128))\n",
        "                X_train.append(dummy)\n",
        "                y_train.append(i)\n",
        "            except Exception as e:\n",
        "                print(e)"
      ],
      "execution_count": 74,
      "outputs": [
        {
          "output_type": "stream",
          "name": "stdout",
          "text": [
            "CROWFOOT GRASS\n",
            "CELOSIA ARGENTEA L\n",
            "PURPLE CHLORIS\n"
          ]
        }
      ]
    },
    {
      "cell_type": "code",
      "metadata": {
        "id": "9JbuIBbL9jVs"
      },
      "source": [
        "import numpy as np\n",
        "X_train1 = np.array(X_train)\n",
        "y_train1 = np.array(y_train)"
      ],
      "execution_count": 75,
      "outputs": []
    },
    {
      "cell_type": "code",
      "metadata": {
        "id": "_ef0bf4X9jVx"
      },
      "source": [
        "from sklearn.preprocessing import LabelEncoder\n",
        "lenc = LabelEncoder()\n",
        "y_train2 = lenc.fit_transform(y_train1)\n",
        "import tensorflow as tf\n",
        "y_train1 = tf.keras.utils.to_categorical(y_train2)"
      ],
      "execution_count": 76,
      "outputs": []
    },
    {
      "cell_type": "code",
      "metadata": {
        "id": "v6WfrU37FHW1"
      },
      "source": [
        "from sklearn.model_selection import train_test_split\n",
        "x_tr,x_vl,y_tr,y_vl = train_test_split(X_train1,y_train1)"
      ],
      "execution_count": 77,
      "outputs": []
    },
    {
      "cell_type": "code",
      "metadata": {
        "id": "JMeyt0CU9jV0"
      },
      "source": [
        "X_test = []\n",
        "import cv2\n",
        "for i in os.listdir('/content/drive/MyDrive/Test'):\n",
        "    dummy = cv2.imread('/content/drive/MyDrive/Test/' + i)\n",
        "    dummy = cv2.resize(dummy, (128,128))\n",
        "    X_test.append(dummy)"
      ],
      "execution_count": 78,
      "outputs": []
    },
    {
      "cell_type": "code",
      "metadata": {
        "id": "q1SucFSxVQtV"
      },
      "source": [
        "X_test1 = np.array(X_test)"
      ],
      "execution_count": 79,
      "outputs": []
    },
    {
      "cell_type": "code",
      "metadata": {
        "id": "uNukw7O49jV2"
      },
      "source": [
        "from tensorflow.keras import layers#Using layers module\n",
        "from tensorflow.keras.models import Sequential#Using the sequential module to define a model sequentially/in a sequential manner\n",
        "model = Sequential()"
      ],
      "execution_count": 80,
      "outputs": []
    },
    {
      "cell_type": "code",
      "metadata": {
        "id": "JXV9V2019jV4"
      },
      "source": [
        "model.add(layers.Flatten())\n",
        "model.add(layers.BatchNormalization())\n",
        "model.add(layers.Dense(256,activation='relu'))\n",
        "model.add(layers.Dropout(0.4))\n",
        "model.add(layers.Dense(3,activation='softmax'))\n",
        "model.compile(optimizer='adam',loss='categorical_crossentropy',metrics=['accuracy'])"
      ],
      "execution_count": 81,
      "outputs": []
    },
    {
      "cell_type": "code",
      "metadata": {
        "id": "hpVYXLJi9jV8",
        "colab": {
          "base_uri": "https://localhost:8080/"
        },
        "outputId": "876c0378-a504-45ab-d859-4cd887a370c4"
      },
      "source": [
        "model.fit(X_train1,y_train1,epochs=104,batch_size=100)#Training the model"
      ],
      "execution_count": 82,
      "outputs": [
        {
          "output_type": "stream",
          "name": "stdout",
          "text": [
            "Epoch 1/104\n",
            "2/2 [==============================] - 2s 20ms/step - loss: 24.2890 - accuracy: 0.3782\n",
            "Epoch 2/104\n",
            "2/2 [==============================] - 0s 18ms/step - loss: 21.1098 - accuracy: 0.5907\n",
            "Epoch 3/104\n",
            "2/2 [==============================] - 0s 21ms/step - loss: 9.5408 - accuracy: 0.7461\n",
            "Epoch 4/104\n",
            "2/2 [==============================] - 0s 19ms/step - loss: 7.3282 - accuracy: 0.8446\n",
            "Epoch 5/104\n",
            "2/2 [==============================] - 0s 19ms/step - loss: 3.1068 - accuracy: 0.8912\n",
            "Epoch 6/104\n",
            "2/2 [==============================] - 0s 19ms/step - loss: 6.5738 - accuracy: 0.8860\n",
            "Epoch 7/104\n",
            "2/2 [==============================] - 0s 18ms/step - loss: 4.0273 - accuracy: 0.9016\n",
            "Epoch 8/104\n",
            "2/2 [==============================] - 0s 18ms/step - loss: 2.4432 - accuracy: 0.9482\n",
            "Epoch 9/104\n",
            "2/2 [==============================] - 0s 18ms/step - loss: 1.7977 - accuracy: 0.9430\n",
            "Epoch 10/104\n",
            "2/2 [==============================] - 0s 17ms/step - loss: 2.9950 - accuracy: 0.9326\n",
            "Epoch 11/104\n",
            "2/2 [==============================] - 0s 17ms/step - loss: 0.9809 - accuracy: 0.9637\n",
            "Epoch 12/104\n",
            "2/2 [==============================] - 0s 16ms/step - loss: 1.0965 - accuracy: 0.9585\n",
            "Epoch 13/104\n",
            "2/2 [==============================] - 0s 16ms/step - loss: 0.4344 - accuracy: 0.9689\n",
            "Epoch 14/104\n",
            "2/2 [==============================] - 0s 17ms/step - loss: 1.5811 - accuracy: 0.9534\n",
            "Epoch 15/104\n",
            "2/2 [==============================] - 0s 16ms/step - loss: 0.6100 - accuracy: 0.9689\n",
            "Epoch 16/104\n",
            "2/2 [==============================] - 0s 17ms/step - loss: 1.4282e-04 - accuracy: 1.0000\n",
            "Epoch 17/104\n",
            "2/2 [==============================] - 0s 19ms/step - loss: 0.9538 - accuracy: 0.9689\n",
            "Epoch 18/104\n",
            "2/2 [==============================] - 0s 16ms/step - loss: 1.0995 - accuracy: 0.9845\n",
            "Epoch 19/104\n",
            "2/2 [==============================] - 0s 15ms/step - loss: 0.1114 - accuracy: 0.9896\n",
            "Epoch 20/104\n",
            "2/2 [==============================] - 0s 18ms/step - loss: 0.2177 - accuracy: 0.9896\n",
            "Epoch 21/104\n",
            "2/2 [==============================] - 0s 15ms/step - loss: 0.4644 - accuracy: 0.9637\n",
            "Epoch 22/104\n",
            "2/2 [==============================] - 0s 20ms/step - loss: 0.3853 - accuracy: 0.9741\n",
            "Epoch 23/104\n",
            "2/2 [==============================] - 0s 17ms/step - loss: 0.0115 - accuracy: 0.9948\n",
            "Epoch 24/104\n",
            "2/2 [==============================] - 0s 15ms/step - loss: 0.4010 - accuracy: 0.9793\n",
            "Epoch 25/104\n",
            "2/2 [==============================] - 0s 15ms/step - loss: 0.2265 - accuracy: 0.9793\n",
            "Epoch 26/104\n",
            "2/2 [==============================] - 0s 16ms/step - loss: 0.0019 - accuracy: 1.0000\n",
            "Epoch 27/104\n",
            "2/2 [==============================] - 0s 16ms/step - loss: 0.4259 - accuracy: 0.9845\n",
            "Epoch 28/104\n",
            "2/2 [==============================] - 0s 16ms/step - loss: 0.2447 - accuracy: 0.9845\n",
            "Epoch 29/104\n",
            "2/2 [==============================] - 0s 18ms/step - loss: 0.1708 - accuracy: 0.9948\n",
            "Epoch 30/104\n",
            "2/2 [==============================] - 0s 16ms/step - loss: 1.3033e-07 - accuracy: 1.0000\n",
            "Epoch 31/104\n",
            "2/2 [==============================] - 0s 15ms/step - loss: 0.7747 - accuracy: 0.9948\n",
            "Epoch 32/104\n",
            "2/2 [==============================] - 0s 15ms/step - loss: 1.3238e-05 - accuracy: 1.0000\n",
            "Epoch 33/104\n",
            "2/2 [==============================] - 0s 15ms/step - loss: 0.2010 - accuracy: 0.9896\n",
            "Epoch 34/104\n",
            "2/2 [==============================] - 0s 15ms/step - loss: 0.1691 - accuracy: 0.9845\n",
            "Epoch 35/104\n",
            "2/2 [==============================] - 0s 15ms/step - loss: 0.1167 - accuracy: 0.9845\n",
            "Epoch 36/104\n",
            "2/2 [==============================] - 0s 15ms/step - loss: 0.0036 - accuracy: 1.0000\n",
            "Epoch 37/104\n",
            "2/2 [==============================] - 0s 20ms/step - loss: 0.1301 - accuracy: 0.9896\n",
            "Epoch 38/104\n",
            "2/2 [==============================] - 0s 14ms/step - loss: 7.8112e-06 - accuracy: 1.0000\n",
            "Epoch 39/104\n",
            "2/2 [==============================] - 0s 15ms/step - loss: 0.0226 - accuracy: 0.9948\n",
            "Epoch 40/104\n",
            "2/2 [==============================] - 0s 14ms/step - loss: 2.1618e-07 - accuracy: 1.0000\n",
            "Epoch 41/104\n",
            "2/2 [==============================] - 0s 14ms/step - loss: 0.2623 - accuracy: 0.9845\n",
            "Epoch 42/104\n",
            "2/2 [==============================] - 0s 15ms/step - loss: 0.1055 - accuracy: 0.9896\n",
            "Epoch 43/104\n",
            "2/2 [==============================] - 0s 15ms/step - loss: 4.8048e-04 - accuracy: 1.0000\n",
            "Epoch 44/104\n",
            "2/2 [==============================] - 0s 14ms/step - loss: 1.2692e-04 - accuracy: 1.0000\n",
            "Epoch 45/104\n",
            "2/2 [==============================] - 0s 14ms/step - loss: 0.2985 - accuracy: 0.9845\n",
            "Epoch 46/104\n",
            "2/2 [==============================] - 0s 14ms/step - loss: 0.0056 - accuracy: 0.9948\n",
            "Epoch 47/104\n",
            "2/2 [==============================] - 0s 13ms/step - loss: 3.8541e-05 - accuracy: 1.0000\n",
            "Epoch 48/104\n",
            "2/2 [==============================] - 0s 14ms/step - loss: 9.3147e-06 - accuracy: 1.0000\n",
            "Epoch 49/104\n",
            "2/2 [==============================] - 0s 13ms/step - loss: 0.0852 - accuracy: 0.9845\n",
            "Epoch 50/104\n",
            "2/2 [==============================] - 0s 13ms/step - loss: 0.1662 - accuracy: 0.9896\n",
            "Epoch 51/104\n",
            "2/2 [==============================] - 0s 15ms/step - loss: 0.0037 - accuracy: 0.9948\n",
            "Epoch 52/104\n",
            "2/2 [==============================] - 0s 16ms/step - loss: 0.0914 - accuracy: 0.9948\n",
            "Epoch 53/104\n",
            "2/2 [==============================] - 0s 17ms/step - loss: 8.3687e-07 - accuracy: 1.0000\n",
            "Epoch 54/104\n",
            "2/2 [==============================] - 0s 15ms/step - loss: 0.1113 - accuracy: 0.9896\n",
            "Epoch 55/104\n",
            "2/2 [==============================] - 0s 15ms/step - loss: 6.4179e-06 - accuracy: 1.0000\n",
            "Epoch 56/104\n",
            "2/2 [==============================] - 0s 16ms/step - loss: 1.5873e-04 - accuracy: 1.0000\n",
            "Epoch 57/104\n",
            "2/2 [==============================] - 0s 23ms/step - loss: 0.7746 - accuracy: 0.9896\n",
            "Epoch 58/104\n",
            "2/2 [==============================] - 0s 15ms/step - loss: 0.0363 - accuracy: 0.9948\n",
            "Epoch 59/104\n",
            "2/2 [==============================] - 0s 15ms/step - loss: 0.5483 - accuracy: 0.9896\n",
            "Epoch 60/104\n",
            "2/2 [==============================] - 0s 15ms/step - loss: 0.1071 - accuracy: 0.9948\n",
            "Epoch 61/104\n",
            "2/2 [==============================] - 0s 15ms/step - loss: 2.4707e-09 - accuracy: 1.0000\n",
            "Epoch 62/104\n",
            "2/2 [==============================] - 0s 15ms/step - loss: 0.0035 - accuracy: 1.0000\n",
            "Epoch 63/104\n",
            "2/2 [==============================] - 0s 17ms/step - loss: 0.0000e+00 - accuracy: 1.0000\n",
            "Epoch 64/104\n",
            "2/2 [==============================] - 0s 15ms/step - loss: 0.1632 - accuracy: 0.9948\n",
            "Epoch 65/104\n",
            "2/2 [==============================] - 0s 14ms/step - loss: 0.0939 - accuracy: 0.9948\n",
            "Epoch 66/104\n",
            "2/2 [==============================] - 0s 15ms/step - loss: 0.0000e+00 - accuracy: 1.0000\n",
            "Epoch 67/104\n",
            "2/2 [==============================] - 0s 17ms/step - loss: 3.0883e-09 - accuracy: 1.0000\n",
            "Epoch 68/104\n",
            "2/2 [==============================] - 0s 15ms/step - loss: 6.1766e-10 - accuracy: 1.0000\n",
            "Epoch 69/104\n",
            "2/2 [==============================] - 0s 14ms/step - loss: 2.7795e-08 - accuracy: 1.0000\n",
            "Epoch 70/104\n",
            "2/2 [==============================] - 0s 14ms/step - loss: 1.5812e-07 - accuracy: 1.0000\n",
            "Epoch 71/104\n",
            "2/2 [==============================] - 0s 14ms/step - loss: 5.3119e-08 - accuracy: 1.0000\n",
            "Epoch 72/104\n",
            "2/2 [==============================] - 0s 14ms/step - loss: 0.1780 - accuracy: 0.9948\n",
            "Epoch 73/104\n",
            "2/2 [==============================] - 0s 14ms/step - loss: 2.1865e-07 - accuracy: 1.0000\n",
            "Epoch 74/104\n",
            "2/2 [==============================] - 0s 14ms/step - loss: 0.0122 - accuracy: 0.9948\n",
            "Epoch 75/104\n",
            "2/2 [==============================] - 0s 14ms/step - loss: 5.8124e-04 - accuracy: 1.0000\n",
            "Epoch 76/104\n",
            "2/2 [==============================] - 0s 15ms/step - loss: 0.2145 - accuracy: 0.9948\n",
            "Epoch 77/104\n",
            "2/2 [==============================] - 0s 20ms/step - loss: 0.0000e+00 - accuracy: 1.0000\n",
            "Epoch 78/104\n",
            "2/2 [==============================] - 0s 14ms/step - loss: 0.1282 - accuracy: 0.9948\n",
            "Epoch 79/104\n",
            "2/2 [==============================] - 0s 14ms/step - loss: 0.0816 - accuracy: 0.9896\n",
            "Epoch 80/104\n",
            "2/2 [==============================] - 0s 13ms/step - loss: 2.4707e-09 - accuracy: 1.0000\n",
            "Epoch 81/104\n",
            "2/2 [==============================] - 0s 17ms/step - loss: 0.0037 - accuracy: 0.9948\n",
            "Epoch 82/104\n",
            "2/2 [==============================] - 0s 15ms/step - loss: 0.1445 - accuracy: 0.9948\n",
            "Epoch 83/104\n",
            "2/2 [==============================] - 0s 15ms/step - loss: 6.3619e-08 - accuracy: 1.0000\n",
            "Epoch 84/104\n",
            "2/2 [==============================] - 0s 15ms/step - loss: 7.0780e-07 - accuracy: 1.0000\n",
            "Epoch 85/104\n",
            "2/2 [==============================] - 0s 15ms/step - loss: 6.1766e-10 - accuracy: 1.0000\n",
            "Epoch 86/104\n",
            "2/2 [==============================] - 0s 15ms/step - loss: 0.1352 - accuracy: 0.9948\n",
            "Epoch 87/104\n",
            "2/2 [==============================] - 0s 15ms/step - loss: 3.7677e-08 - accuracy: 1.0000\n",
            "Epoch 88/104\n",
            "2/2 [==============================] - 0s 15ms/step - loss: 0.0000e+00 - accuracy: 1.0000\n",
            "Epoch 89/104\n",
            "2/2 [==============================] - 0s 15ms/step - loss: 0.0000e+00 - accuracy: 1.0000\n",
            "Epoch 90/104\n",
            "2/2 [==============================] - 0s 14ms/step - loss: 6.7943e-09 - accuracy: 1.0000\n",
            "Epoch 91/104\n",
            "2/2 [==============================] - 0s 17ms/step - loss: 0.0547 - accuracy: 0.9948\n",
            "Epoch 92/104\n",
            "2/2 [==============================] - 0s 14ms/step - loss: 3.9324e-05 - accuracy: 1.0000\n",
            "Epoch 93/104\n",
            "2/2 [==============================] - 0s 14ms/step - loss: 0.0000e+00 - accuracy: 1.0000\n",
            "Epoch 94/104\n",
            "2/2 [==============================] - 0s 14ms/step - loss: 4.3698e-05 - accuracy: 1.0000\n",
            "Epoch 95/104\n",
            "2/2 [==============================] - 0s 14ms/step - loss: 2.4707e-09 - accuracy: 1.0000\n",
            "Epoch 96/104\n",
            "2/2 [==============================] - 0s 14ms/step - loss: 0.0000e+00 - accuracy: 1.0000\n",
            "Epoch 97/104\n",
            "2/2 [==============================] - 0s 13ms/step - loss: 0.0000e+00 - accuracy: 1.0000\n",
            "Epoch 98/104\n",
            "2/2 [==============================] - 0s 15ms/step - loss: 0.0000e+00 - accuracy: 1.0000\n",
            "Epoch 99/104\n",
            "2/2 [==============================] - 0s 13ms/step - loss: 0.1284 - accuracy: 0.9948\n",
            "Epoch 100/104\n",
            "2/2 [==============================] - 0s 15ms/step - loss: 0.0000e+00 - accuracy: 1.0000\n",
            "Epoch 101/104\n",
            "2/2 [==============================] - 0s 14ms/step - loss: 0.1796 - accuracy: 0.9948\n",
            "Epoch 102/104\n",
            "2/2 [==============================] - 0s 14ms/step - loss: 0.2041 - accuracy: 0.9948\n",
            "Epoch 103/104\n",
            "2/2 [==============================] - 0s 16ms/step - loss: 0.0000e+00 - accuracy: 1.0000\n",
            "Epoch 104/104\n",
            "2/2 [==============================] - 0s 14ms/step - loss: 0.0000e+00 - accuracy: 1.0000\n"
          ]
        },
        {
          "output_type": "execute_result",
          "data": {
            "text/plain": [
              "<keras.callbacks.History at 0x7f94400d80d0>"
            ]
          },
          "metadata": {},
          "execution_count": 82
        }
      ]
    },
    {
      "cell_type": "code",
      "metadata": {
        "id": "lW5HTxyHFc9z",
        "colab": {
          "base_uri": "https://localhost:8080/"
        },
        "outputId": "dc42d405-90ac-4a5f-beff-f902e28d2a9a"
      },
      "source": [
        "model.fit(x_tr,y_tr,validation_data=(x_vl,y_vl),epochs=104,batch_size=100)#Training the model"
      ],
      "execution_count": 83,
      "outputs": [
        {
          "output_type": "stream",
          "name": "stdout",
          "text": [
            "Epoch 1/104\n",
            "2/2 [==============================] - 0s 209ms/step - loss: 1.2914e-07 - accuracy: 1.0000 - val_loss: 0.0000e+00 - val_accuracy: 1.0000\n",
            "Epoch 2/104\n",
            "2/2 [==============================] - 0s 36ms/step - loss: 4.8262e-07 - accuracy: 1.0000 - val_loss: 0.0000e+00 - val_accuracy: 1.0000\n",
            "Epoch 3/104\n",
            "2/2 [==============================] - 0s 43ms/step - loss: 0.0484 - accuracy: 0.9931 - val_loss: 0.0000e+00 - val_accuracy: 1.0000\n",
            "Epoch 4/104\n",
            "2/2 [==============================] - 0s 35ms/step - loss: 0.0382 - accuracy: 0.9931 - val_loss: 0.0151 - val_accuracy: 0.9796\n",
            "Epoch 5/104\n",
            "2/2 [==============================] - 0s 37ms/step - loss: 0.2779 - accuracy: 0.9792 - val_loss: 0.1979 - val_accuracy: 0.9796\n",
            "Epoch 6/104\n",
            "2/2 [==============================] - 0s 36ms/step - loss: 7.4862e-05 - accuracy: 1.0000 - val_loss: 0.2239 - val_accuracy: 0.9796\n",
            "Epoch 7/104\n",
            "2/2 [==============================] - 0s 35ms/step - loss: 2.8770e-06 - accuracy: 1.0000 - val_loss: 0.2381 - val_accuracy: 0.9796\n",
            "Epoch 8/104\n",
            "2/2 [==============================] - 0s 35ms/step - loss: 0.0341 - accuracy: 0.9931 - val_loss: 0.1154 - val_accuracy: 0.9796\n",
            "Epoch 9/104\n",
            "2/2 [==============================] - 0s 37ms/step - loss: 0.0000e+00 - accuracy: 1.0000 - val_loss: 0.0168 - val_accuracy: 0.9796\n",
            "Epoch 10/104\n",
            "2/2 [==============================] - 0s 36ms/step - loss: 3.5762e-07 - accuracy: 1.0000 - val_loss: 2.5653e-04 - val_accuracy: 1.0000\n",
            "Epoch 11/104\n",
            "2/2 [==============================] - 0s 39ms/step - loss: 0.2740 - accuracy: 0.9931 - val_loss: 0.0000e+00 - val_accuracy: 1.0000\n",
            "Epoch 12/104\n",
            "2/2 [==============================] - 0s 33ms/step - loss: 0.0200 - accuracy: 0.9931 - val_loss: 0.2322 - val_accuracy: 0.9796\n",
            "Epoch 13/104\n",
            "2/2 [==============================] - 0s 34ms/step - loss: 0.3738 - accuracy: 0.9931 - val_loss: 0.7011 - val_accuracy: 0.9796\n",
            "Epoch 14/104\n",
            "2/2 [==============================] - 0s 36ms/step - loss: 0.1366 - accuracy: 0.9861 - val_loss: 0.3749 - val_accuracy: 0.9796\n",
            "Epoch 15/104\n",
            "2/2 [==============================] - 0s 35ms/step - loss: 0.1703 - accuracy: 0.9931 - val_loss: 1.0583e-06 - val_accuracy: 1.0000\n",
            "Epoch 16/104\n",
            "2/2 [==============================] - 0s 33ms/step - loss: 0.3139 - accuracy: 0.9861 - val_loss: 0.0000e+00 - val_accuracy: 1.0000\n",
            "Epoch 17/104\n",
            "2/2 [==============================] - 0s 34ms/step - loss: 0.1584 - accuracy: 0.9861 - val_loss: 0.0000e+00 - val_accuracy: 1.0000\n",
            "Epoch 18/104\n",
            "2/2 [==============================] - 0s 35ms/step - loss: 0.0220 - accuracy: 0.9931 - val_loss: 0.0000e+00 - val_accuracy: 1.0000\n",
            "Epoch 19/104\n",
            "2/2 [==============================] - 0s 46ms/step - loss: 5.8328e-04 - accuracy: 1.0000 - val_loss: 0.0000e+00 - val_accuracy: 1.0000\n",
            "Epoch 20/104\n",
            "2/2 [==============================] - 0s 36ms/step - loss: 8.2531e-07 - accuracy: 1.0000 - val_loss: 5.3522e-08 - val_accuracy: 1.0000\n",
            "Epoch 21/104\n",
            "2/2 [==============================] - 0s 37ms/step - loss: 0.7893 - accuracy: 0.9861 - val_loss: 1.8003e-07 - val_accuracy: 1.0000\n",
            "Epoch 22/104\n",
            "2/2 [==============================] - 0s 36ms/step - loss: 0.3788 - accuracy: 0.9861 - val_loss: 2.2139e-07 - val_accuracy: 1.0000\n",
            "Epoch 23/104\n",
            "2/2 [==============================] - 0s 36ms/step - loss: 0.0175 - accuracy: 0.9931 - val_loss: 3.9412e-07 - val_accuracy: 1.0000\n",
            "Epoch 24/104\n",
            "2/2 [==============================] - 0s 36ms/step - loss: 0.5429 - accuracy: 0.9931 - val_loss: 0.0000e+00 - val_accuracy: 1.0000\n",
            "Epoch 25/104\n",
            "2/2 [==============================] - 0s 36ms/step - loss: 0.8978 - accuracy: 0.9861 - val_loss: 0.0000e+00 - val_accuracy: 1.0000\n",
            "Epoch 26/104\n",
            "2/2 [==============================] - 0s 36ms/step - loss: 0.3615 - accuracy: 0.9861 - val_loss: 0.0000e+00 - val_accuracy: 1.0000\n",
            "Epoch 27/104\n",
            "2/2 [==============================] - 0s 37ms/step - loss: 0.0000e+00 - accuracy: 1.0000 - val_loss: 0.0000e+00 - val_accuracy: 1.0000\n",
            "Epoch 28/104\n",
            "2/2 [==============================] - 0s 34ms/step - loss: 0.4436 - accuracy: 0.9792 - val_loss: 0.0000e+00 - val_accuracy: 1.0000\n",
            "Epoch 29/104\n",
            "2/2 [==============================] - 0s 34ms/step - loss: 0.4652 - accuracy: 0.9861 - val_loss: 0.0000e+00 - val_accuracy: 1.0000\n",
            "Epoch 30/104\n",
            "2/2 [==============================] - 0s 43ms/step - loss: 0.0000e+00 - accuracy: 1.0000 - val_loss: 0.0000e+00 - val_accuracy: 1.0000\n",
            "Epoch 31/104\n",
            "2/2 [==============================] - 0s 34ms/step - loss: 0.1086 - accuracy: 0.9931 - val_loss: 0.0000e+00 - val_accuracy: 1.0000\n",
            "Epoch 32/104\n",
            "2/2 [==============================] - 0s 39ms/step - loss: 1.1464 - accuracy: 0.9861 - val_loss: 0.0000e+00 - val_accuracy: 1.0000\n",
            "Epoch 33/104\n",
            "2/2 [==============================] - 0s 43ms/step - loss: 1.0746 - accuracy: 0.9861 - val_loss: 0.0000e+00 - val_accuracy: 1.0000\n",
            "Epoch 34/104\n",
            "2/2 [==============================] - 0s 59ms/step - loss: 1.8276 - accuracy: 0.9722 - val_loss: 0.0000e+00 - val_accuracy: 1.0000\n",
            "Epoch 35/104\n",
            "2/2 [==============================] - 0s 43ms/step - loss: 1.8387 - accuracy: 0.9583 - val_loss: 0.0000e+00 - val_accuracy: 1.0000\n",
            "Epoch 36/104\n",
            "2/2 [==============================] - 0s 62ms/step - loss: 2.5853 - accuracy: 0.9722 - val_loss: 0.2108 - val_accuracy: 0.9796\n",
            "Epoch 37/104\n",
            "2/2 [==============================] - 0s 39ms/step - loss: 0.1847 - accuracy: 0.9861 - val_loss: 0.5333 - val_accuracy: 0.9796\n",
            "Epoch 38/104\n",
            "2/2 [==============================] - 0s 39ms/step - loss: 1.0436 - accuracy: 0.9722 - val_loss: 0.9045 - val_accuracy: 0.9388\n",
            "Epoch 39/104\n",
            "2/2 [==============================] - 0s 38ms/step - loss: 2.3886 - accuracy: 0.9583 - val_loss: 0.0000e+00 - val_accuracy: 1.0000\n",
            "Epoch 40/104\n",
            "2/2 [==============================] - 0s 38ms/step - loss: 0.1508 - accuracy: 0.9931 - val_loss: 0.0000e+00 - val_accuracy: 1.0000\n",
            "Epoch 41/104\n",
            "2/2 [==============================] - 0s 56ms/step - loss: 0.0086 - accuracy: 0.9931 - val_loss: 0.0000e+00 - val_accuracy: 1.0000\n",
            "Epoch 42/104\n",
            "2/2 [==============================] - 0s 38ms/step - loss: 2.0751 - accuracy: 0.9792 - val_loss: 1.8854e-06 - val_accuracy: 1.0000\n",
            "Epoch 43/104\n",
            "2/2 [==============================] - 0s 37ms/step - loss: 1.0580 - accuracy: 0.9931 - val_loss: 1.8651 - val_accuracy: 0.9796\n",
            "Epoch 44/104\n",
            "2/2 [==============================] - 0s 36ms/step - loss: 0.4696 - accuracy: 0.9792 - val_loss: 4.0280 - val_accuracy: 0.9796\n",
            "Epoch 45/104\n",
            "2/2 [==============================] - 0s 42ms/step - loss: 0.5273 - accuracy: 0.9653 - val_loss: 4.2221 - val_accuracy: 0.9796\n",
            "Epoch 46/104\n",
            "2/2 [==============================] - 0s 36ms/step - loss: 0.6609 - accuracy: 0.9861 - val_loss: 3.6678 - val_accuracy: 0.9796\n",
            "Epoch 47/104\n",
            "2/2 [==============================] - 0s 50ms/step - loss: 0.2304 - accuracy: 0.9931 - val_loss: 2.7879 - val_accuracy: 0.9796\n",
            "Epoch 48/104\n",
            "2/2 [==============================] - 0s 45ms/step - loss: 0.1838 - accuracy: 0.9861 - val_loss: 2.0210 - val_accuracy: 0.9796\n",
            "Epoch 49/104\n",
            "2/2 [==============================] - 0s 38ms/step - loss: 1.1811 - accuracy: 0.9792 - val_loss: 1.5890 - val_accuracy: 0.9796\n",
            "Epoch 50/104\n",
            "2/2 [==============================] - 0s 41ms/step - loss: 0.2936 - accuracy: 0.9861 - val_loss: 1.0968 - val_accuracy: 0.9796\n",
            "Epoch 51/104\n",
            "2/2 [==============================] - 0s 39ms/step - loss: 0.2436 - accuracy: 0.9861 - val_loss: 0.6702 - val_accuracy: 0.9592\n",
            "Epoch 52/104\n",
            "2/2 [==============================] - 0s 38ms/step - loss: 0.1355 - accuracy: 0.9931 - val_loss: 0.4232 - val_accuracy: 0.9592\n",
            "Epoch 53/104\n",
            "2/2 [==============================] - 0s 42ms/step - loss: 1.5483 - accuracy: 0.9653 - val_loss: 0.2740 - val_accuracy: 0.9796\n",
            "Epoch 54/104\n",
            "2/2 [==============================] - 0s 37ms/step - loss: 1.4503 - accuracy: 0.9653 - val_loss: 0.0000e+00 - val_accuracy: 1.0000\n",
            "Epoch 55/104\n",
            "2/2 [==============================] - 0s 35ms/step - loss: 6.3744e-08 - accuracy: 1.0000 - val_loss: 7.2985e-09 - val_accuracy: 1.0000\n",
            "Epoch 56/104\n",
            "2/2 [==============================] - 0s 36ms/step - loss: 1.0711 - accuracy: 0.9861 - val_loss: 0.0000e+00 - val_accuracy: 1.0000\n",
            "Epoch 57/104\n",
            "2/2 [==============================] - 0s 37ms/step - loss: 0.0000e+00 - accuracy: 1.0000 - val_loss: 2.4328e-08 - val_accuracy: 1.0000\n",
            "Epoch 58/104\n",
            "2/2 [==============================] - 0s 36ms/step - loss: 0.1835 - accuracy: 0.9722 - val_loss: 2.3139 - val_accuracy: 0.9796\n",
            "Epoch 59/104\n",
            "2/2 [==============================] - 0s 40ms/step - loss: 0.6852 - accuracy: 0.9861 - val_loss: 1.4515 - val_accuracy: 0.9796\n",
            "Epoch 60/104\n",
            "2/2 [==============================] - 0s 38ms/step - loss: 0.0870 - accuracy: 0.9931 - val_loss: 0.6455 - val_accuracy: 0.9592\n",
            "Epoch 61/104\n",
            "2/2 [==============================] - 0s 35ms/step - loss: 0.1909 - accuracy: 0.9861 - val_loss: 7.0502e-05 - val_accuracy: 1.0000\n",
            "Epoch 62/104\n",
            "2/2 [==============================] - 0s 35ms/step - loss: 0.9669 - accuracy: 0.9792 - val_loss: 0.0000e+00 - val_accuracy: 1.0000\n",
            "Epoch 63/104\n",
            "2/2 [==============================] - 0s 40ms/step - loss: 0.5734 - accuracy: 0.9931 - val_loss: 0.0011 - val_accuracy: 1.0000\n",
            "Epoch 64/104\n",
            "2/2 [==============================] - 0s 37ms/step - loss: 0.3702 - accuracy: 0.9931 - val_loss: 0.1515 - val_accuracy: 0.9796\n",
            "Epoch 65/104\n",
            "2/2 [==============================] - 0s 37ms/step - loss: 0.3002 - accuracy: 0.9931 - val_loss: 0.4316 - val_accuracy: 0.9796\n",
            "Epoch 66/104\n",
            "2/2 [==============================] - 0s 37ms/step - loss: 1.8838 - accuracy: 0.9792 - val_loss: 1.4597e-08 - val_accuracy: 1.0000\n",
            "Epoch 67/104\n",
            "2/2 [==============================] - 0s 39ms/step - loss: 0.0018 - accuracy: 1.0000 - val_loss: 0.8392 - val_accuracy: 0.9796\n",
            "Epoch 68/104\n",
            "2/2 [==============================] - 0s 39ms/step - loss: 0.0000e+00 - accuracy: 1.0000 - val_loss: 1.6865 - val_accuracy: 0.9796\n",
            "Epoch 69/104\n",
            "2/2 [==============================] - 0s 45ms/step - loss: 0.3594 - accuracy: 0.9931 - val_loss: 2.4099 - val_accuracy: 0.9592\n",
            "Epoch 70/104\n",
            "2/2 [==============================] - 0s 42ms/step - loss: 0.3101 - accuracy: 0.9792 - val_loss: 1.5729 - val_accuracy: 0.9796\n",
            "Epoch 71/104\n",
            "2/2 [==============================] - 0s 36ms/step - loss: 1.9054e-04 - accuracy: 1.0000 - val_loss: 0.1110 - val_accuracy: 0.9796\n",
            "Epoch 72/104\n",
            "2/2 [==============================] - 0s 36ms/step - loss: 2.5248 - accuracy: 0.9931 - val_loss: 0.0234 - val_accuracy: 0.9796\n",
            "Epoch 73/104\n",
            "2/2 [==============================] - 0s 42ms/step - loss: 0.4625 - accuracy: 0.9792 - val_loss: 0.0235 - val_accuracy: 0.9796\n",
            "Epoch 74/104\n",
            "2/2 [==============================] - 0s 37ms/step - loss: 2.5278e-06 - accuracy: 1.0000 - val_loss: 0.0456 - val_accuracy: 0.9796\n",
            "Epoch 75/104\n",
            "2/2 [==============================] - 0s 37ms/step - loss: 0.6856 - accuracy: 0.9653 - val_loss: 0.2833 - val_accuracy: 0.9796\n",
            "Epoch 76/104\n",
            "2/2 [==============================] - 0s 35ms/step - loss: 0.4420 - accuracy: 0.9722 - val_loss: 1.9992 - val_accuracy: 0.9388\n",
            "Epoch 77/104\n",
            "2/2 [==============================] - 0s 37ms/step - loss: 0.0000e+00 - accuracy: 1.0000 - val_loss: 11.0983 - val_accuracy: 0.8980\n",
            "Epoch 78/104\n",
            "2/2 [==============================] - 0s 36ms/step - loss: 3.6694 - accuracy: 0.9514 - val_loss: 10.8712 - val_accuracy: 0.8776\n",
            "Epoch 79/104\n",
            "2/2 [==============================] - 0s 37ms/step - loss: 0.4607 - accuracy: 0.9792 - val_loss: 3.9335 - val_accuracy: 0.8980\n",
            "Epoch 80/104\n",
            "2/2 [==============================] - 0s 35ms/step - loss: 0.1276 - accuracy: 0.9931 - val_loss: 3.2448 - val_accuracy: 0.8980\n",
            "Epoch 81/104\n",
            "2/2 [==============================] - 0s 35ms/step - loss: 2.1934 - accuracy: 0.9722 - val_loss: 9.7337 - val_accuracy: 0.8980\n",
            "Epoch 82/104\n",
            "2/2 [==============================] - 0s 37ms/step - loss: 2.0352 - accuracy: 0.9653 - val_loss: 3.1662 - val_accuracy: 0.8980\n",
            "Epoch 83/104\n",
            "2/2 [==============================] - 0s 38ms/step - loss: 0.0163 - accuracy: 0.9931 - val_loss: 10.8327 - val_accuracy: 0.8776\n",
            "Epoch 84/104\n",
            "2/2 [==============================] - 0s 37ms/step - loss: 0.5957 - accuracy: 0.9861 - val_loss: 19.2981 - val_accuracy: 0.8571\n",
            "Epoch 85/104\n",
            "2/2 [==============================] - 0s 37ms/step - loss: 1.3905 - accuracy: 0.9653 - val_loss: 19.5720 - val_accuracy: 0.8571\n",
            "Epoch 86/104\n",
            "2/2 [==============================] - 0s 39ms/step - loss: 0.2747 - accuracy: 0.9861 - val_loss: 15.8292 - val_accuracy: 0.8163\n",
            "Epoch 87/104\n",
            "2/2 [==============================] - 0s 37ms/step - loss: 0.5152 - accuracy: 0.9722 - val_loss: 12.5736 - val_accuracy: 0.8367\n",
            "Epoch 88/104\n",
            "2/2 [==============================] - 0s 40ms/step - loss: 1.1734 - accuracy: 0.9861 - val_loss: 9.2974 - val_accuracy: 0.8980\n",
            "Epoch 89/104\n",
            "2/2 [==============================] - 0s 36ms/step - loss: 0.1445 - accuracy: 0.9931 - val_loss: 8.3688 - val_accuracy: 0.8776\n",
            "Epoch 90/104\n",
            "2/2 [==============================] - 0s 37ms/step - loss: 0.9312 - accuracy: 0.9792 - val_loss: 7.3232 - val_accuracy: 0.8776\n",
            "Epoch 91/104\n",
            "2/2 [==============================] - 0s 36ms/step - loss: 1.4923 - accuracy: 0.9792 - val_loss: 5.0621 - val_accuracy: 0.8980\n",
            "Epoch 92/104\n",
            "2/2 [==============================] - 0s 39ms/step - loss: 0.0000e+00 - accuracy: 1.0000 - val_loss: 7.1948 - val_accuracy: 0.8980\n",
            "Epoch 93/104\n",
            "2/2 [==============================] - 0s 37ms/step - loss: 0.0078 - accuracy: 0.9931 - val_loss: 13.1016 - val_accuracy: 0.8980\n",
            "Epoch 94/104\n",
            "2/2 [==============================] - 0s 36ms/step - loss: 0.0000e+00 - accuracy: 1.0000 - val_loss: 17.8769 - val_accuracy: 0.8980\n",
            "Epoch 95/104\n",
            "2/2 [==============================] - 0s 36ms/step - loss: 0.4573 - accuracy: 0.9931 - val_loss: 21.1739 - val_accuracy: 0.8980\n",
            "Epoch 96/104\n",
            "2/2 [==============================] - 0s 35ms/step - loss: 1.6203 - accuracy: 0.9792 - val_loss: 19.8979 - val_accuracy: 0.8980\n",
            "Epoch 97/104\n",
            "2/2 [==============================] - 0s 36ms/step - loss: 2.7016 - accuracy: 0.9722 - val_loss: 13.5106 - val_accuracy: 0.8980\n",
            "Epoch 98/104\n",
            "2/2 [==============================] - 0s 35ms/step - loss: 1.7491 - accuracy: 0.9792 - val_loss: 10.2646 - val_accuracy: 0.8980\n",
            "Epoch 99/104\n",
            "2/2 [==============================] - 0s 35ms/step - loss: 0.1581 - accuracy: 0.9931 - val_loss: 8.7687 - val_accuracy: 0.8980\n",
            "Epoch 100/104\n",
            "2/2 [==============================] - 0s 37ms/step - loss: 0.5689 - accuracy: 0.9931 - val_loss: 9.1622 - val_accuracy: 0.8980\n",
            "Epoch 101/104\n",
            "2/2 [==============================] - 0s 37ms/step - loss: 1.0399 - accuracy: 0.9861 - val_loss: 8.7365 - val_accuracy: 0.8980\n",
            "Epoch 102/104\n",
            "2/2 [==============================] - 0s 39ms/step - loss: 1.6977 - accuracy: 0.9792 - val_loss: 9.0887 - val_accuracy: 0.8980\n",
            "Epoch 103/104\n",
            "2/2 [==============================] - 0s 37ms/step - loss: 0.0594 - accuracy: 0.9931 - val_loss: 14.9546 - val_accuracy: 0.8776\n",
            "Epoch 104/104\n",
            "2/2 [==============================] - 0s 36ms/step - loss: 0.7224 - accuracy: 0.9931 - val_loss: 17.9381 - val_accuracy: 0.8776\n"
          ]
        },
        {
          "output_type": "execute_result",
          "data": {
            "text/plain": [
              "<keras.callbacks.History at 0x7f93cadbe460>"
            ]
          },
          "metadata": {},
          "execution_count": 83
        }
      ]
    },
    {
      "cell_type": "code",
      "metadata": {
        "id": "2xpZIF8U9jV_",
        "colab": {
          "base_uri": "https://localhost:8080/"
        },
        "outputId": "06451f09-2b55-452b-be51-f406d719b104"
      },
      "source": [
        "loss, acc = model.evaluate(X_train1,y_train1)\n",
        "print(loss,acc)"
      ],
      "execution_count": 84,
      "outputs": [
        {
          "output_type": "stream",
          "name": "stdout",
          "text": [
            "7/7 [==============================] - 0s 4ms/step - loss: 4.5542 - accuracy: 0.9689\n",
            "4.554230690002441 0.9689119458198547\n"
          ]
        }
      ]
    },
    {
      "cell_type": "code",
      "metadata": {
        "id": "CKzo_84x9jWB",
        "colab": {
          "base_uri": "https://localhost:8080/"
        },
        "outputId": "fd03ad8e-df3c-4190-c989-f866f7bb9981"
      },
      "source": [
        "y_pred = model.predict(X_test1)"
      ],
      "execution_count": 85,
      "outputs": [
        {
          "output_type": "stream",
          "name": "stdout",
          "text": [
            "1/1 [==============================] - 0s 64ms/step\n"
          ]
        }
      ]
    },
    {
      "cell_type": "code",
      "metadata": {
        "id": "qBU6BjEI9jWD",
        "colab": {
          "base_uri": "https://localhost:8080/"
        },
        "outputId": "51dd1a41-5a98-472d-ad3c-cde6cc0e2e12"
      },
      "source": [
        "out = []\n",
        "for i in y_pred:\n",
        "  out.append(np.argmax(i))\n",
        "print(out)  "
      ],
      "execution_count": 86,
      "outputs": [
        {
          "output_type": "stream",
          "name": "stdout",
          "text": [
            "[1, 1]\n"
          ]
        }
      ]
    },
    {
      "cell_type": "code",
      "metadata": {
        "id": "SKz7DNjx9jWF"
      },
      "source": [
        "out = lenc.inverse_transform(out)"
      ],
      "execution_count": 87,
      "outputs": []
    },
    {
      "cell_type": "code",
      "metadata": {
        "id": "cG_YGFi19jWH",
        "colab": {
          "base_uri": "https://localhost:8080/"
        },
        "outputId": "ea1a4c54-6f7e-40ae-8dcc-f7c76147c362"
      },
      "source": [
        "a=[]\n",
        "for i in os.listdir('/content/drive/MyDrive/Test'):\n",
        "    print(i)\n",
        "    a.append(i)"
      ],
      "execution_count": 88,
      "outputs": [
        {
          "output_type": "stream",
          "name": "stdout",
          "text": [
            "bj jk.jpg\n",
            "yvwebe.jpg\n"
          ]
        }
      ]
    },
    {
      "cell_type": "code",
      "metadata": {
        "id": "Tc6nMfbP9jWJ"
      },
      "source": [
        "import pandas as pd\n",
        "results = {'Labels':out,'Images':a}\n",
        "results = pd.DataFrame(results)"
      ],
      "execution_count": 89,
      "outputs": []
    },
    {
      "cell_type": "code",
      "metadata": {
        "id": "Tvy_Na7x9jWL",
        "colab": {
          "base_uri": "https://localhost:8080/",
          "height": 112
        },
        "outputId": "8ea360fd-bb98-444e-e56f-996fc7051041"
      },
      "source": [
        "results.head()"
      ],
      "execution_count": 90,
      "outputs": [
        {
          "output_type": "execute_result",
          "data": {
            "text/plain": [
              "           Labels      Images\n",
              "0  CROWFOOT GRASS   bj jk.jpg\n",
              "1  CROWFOOT GRASS  yvwebe.jpg"
            ],
            "text/html": [
              "\n",
              "  <div id=\"df-414c45f9-56b3-4cdc-af38-95f1be3e2a33\">\n",
              "    <div class=\"colab-df-container\">\n",
              "      <div>\n",
              "<style scoped>\n",
              "    .dataframe tbody tr th:only-of-type {\n",
              "        vertical-align: middle;\n",
              "    }\n",
              "\n",
              "    .dataframe tbody tr th {\n",
              "        vertical-align: top;\n",
              "    }\n",
              "\n",
              "    .dataframe thead th {\n",
              "        text-align: right;\n",
              "    }\n",
              "</style>\n",
              "<table border=\"1\" class=\"dataframe\">\n",
              "  <thead>\n",
              "    <tr style=\"text-align: right;\">\n",
              "      <th></th>\n",
              "      <th>Labels</th>\n",
              "      <th>Images</th>\n",
              "    </tr>\n",
              "  </thead>\n",
              "  <tbody>\n",
              "    <tr>\n",
              "      <th>0</th>\n",
              "      <td>CROWFOOT GRASS</td>\n",
              "      <td>bj jk.jpg</td>\n",
              "    </tr>\n",
              "    <tr>\n",
              "      <th>1</th>\n",
              "      <td>CROWFOOT GRASS</td>\n",
              "      <td>yvwebe.jpg</td>\n",
              "    </tr>\n",
              "  </tbody>\n",
              "</table>\n",
              "</div>\n",
              "      <button class=\"colab-df-convert\" onclick=\"convertToInteractive('df-414c45f9-56b3-4cdc-af38-95f1be3e2a33')\"\n",
              "              title=\"Convert this dataframe to an interactive table.\"\n",
              "              style=\"display:none;\">\n",
              "        \n",
              "  <svg xmlns=\"http://www.w3.org/2000/svg\" height=\"24px\"viewBox=\"0 0 24 24\"\n",
              "       width=\"24px\">\n",
              "    <path d=\"M0 0h24v24H0V0z\" fill=\"none\"/>\n",
              "    <path d=\"M18.56 5.44l.94 2.06.94-2.06 2.06-.94-2.06-.94-.94-2.06-.94 2.06-2.06.94zm-11 1L8.5 8.5l.94-2.06 2.06-.94-2.06-.94L8.5 2.5l-.94 2.06-2.06.94zm10 10l.94 2.06.94-2.06 2.06-.94-2.06-.94-.94-2.06-.94 2.06-2.06.94z\"/><path d=\"M17.41 7.96l-1.37-1.37c-.4-.4-.92-.59-1.43-.59-.52 0-1.04.2-1.43.59L10.3 9.45l-7.72 7.72c-.78.78-.78 2.05 0 2.83L4 21.41c.39.39.9.59 1.41.59.51 0 1.02-.2 1.41-.59l7.78-7.78 2.81-2.81c.8-.78.8-2.07 0-2.86zM5.41 20L4 18.59l7.72-7.72 1.47 1.35L5.41 20z\"/>\n",
              "  </svg>\n",
              "      </button>\n",
              "      \n",
              "  <style>\n",
              "    .colab-df-container {\n",
              "      display:flex;\n",
              "      flex-wrap:wrap;\n",
              "      gap: 12px;\n",
              "    }\n",
              "\n",
              "    .colab-df-convert {\n",
              "      background-color: #E8F0FE;\n",
              "      border: none;\n",
              "      border-radius: 50%;\n",
              "      cursor: pointer;\n",
              "      display: none;\n",
              "      fill: #1967D2;\n",
              "      height: 32px;\n",
              "      padding: 0 0 0 0;\n",
              "      width: 32px;\n",
              "    }\n",
              "\n",
              "    .colab-df-convert:hover {\n",
              "      background-color: #E2EBFA;\n",
              "      box-shadow: 0px 1px 2px rgba(60, 64, 67, 0.3), 0px 1px 3px 1px rgba(60, 64, 67, 0.15);\n",
              "      fill: #174EA6;\n",
              "    }\n",
              "\n",
              "    [theme=dark] .colab-df-convert {\n",
              "      background-color: #3B4455;\n",
              "      fill: #D2E3FC;\n",
              "    }\n",
              "\n",
              "    [theme=dark] .colab-df-convert:hover {\n",
              "      background-color: #434B5C;\n",
              "      box-shadow: 0px 1px 3px 1px rgba(0, 0, 0, 0.15);\n",
              "      filter: drop-shadow(0px 1px 2px rgba(0, 0, 0, 0.3));\n",
              "      fill: #FFFFFF;\n",
              "    }\n",
              "  </style>\n",
              "\n",
              "      <script>\n",
              "        const buttonEl =\n",
              "          document.querySelector('#df-414c45f9-56b3-4cdc-af38-95f1be3e2a33 button.colab-df-convert');\n",
              "        buttonEl.style.display =\n",
              "          google.colab.kernel.accessAllowed ? 'block' : 'none';\n",
              "\n",
              "        async function convertToInteractive(key) {\n",
              "          const element = document.querySelector('#df-414c45f9-56b3-4cdc-af38-95f1be3e2a33');\n",
              "          const dataTable =\n",
              "            await google.colab.kernel.invokeFunction('convertToInteractive',\n",
              "                                                     [key], {});\n",
              "          if (!dataTable) return;\n",
              "\n",
              "          const docLinkHtml = 'Like what you see? Visit the ' +\n",
              "            '<a target=\"_blank\" href=https://colab.research.google.com/notebooks/data_table.ipynb>data table notebook</a>'\n",
              "            + ' to learn more about interactive tables.';\n",
              "          element.innerHTML = '';\n",
              "          dataTable['output_type'] = 'display_data';\n",
              "          await google.colab.output.renderOutput(dataTable, element);\n",
              "          const docLink = document.createElement('div');\n",
              "          docLink.innerHTML = docLinkHtml;\n",
              "          element.appendChild(docLink);\n",
              "        }\n",
              "      </script>\n",
              "    </div>\n",
              "  </div>\n",
              "  "
            ]
          },
          "metadata": {},
          "execution_count": 90
        }
      ]
    },
    {
      "cell_type": "code",
      "metadata": {
        "id": "P1ib-6bz9jWN"
      },
      "source": [
        "results.to_csv('results.csv')"
      ],
      "execution_count": 91,
      "outputs": []
    }
  ]
}